{
 "cells": [
  {
   "cell_type": "code",
   "execution_count": 1,
   "metadata": {},
   "outputs": [],
   "source": [
    "import torch\n",
    "\n",
    "import matplotlib.pyplot as plt\n",
    "import seaborn as sns\n",
    "\n",
    "plt.style.use(\"seaborn-v0_8\")\n",
    "plt.rcParams[\"font.family\"] = \"monospace\""
   ]
  },
  {
   "cell_type": "code",
   "execution_count": 2,
   "metadata": {},
   "outputs": [
    {
     "name": "stdout",
     "output_type": "stream",
     "text": [
      "CUDA found, bounding...\n"
     ]
    }
   ],
   "source": [
    "if torch.cuda.is_available():\n",
    "    print(\"CUDA found, bounding...\")\n",
    "    DEVICE = torch.device('cuda:0')\n",
    "else:\n",
    "    print(\"NO CUDA found, bounding to CPU...\")\n",
    "    DEVICE = torch.device('cpu')"
   ]
  },
  {
   "cell_type": "code",
   "execution_count": 3,
   "metadata": {},
   "outputs": [
    {
     "data": {
      "text/plain": [
       "_CudaDeviceProperties(name='NVIDIA GeForce GTX 1650', major=7, minor=5, total_memory=4095MB, multi_processor_count=16)"
      ]
     },
     "execution_count": 3,
     "metadata": {},
     "output_type": "execute_result"
    }
   ],
   "source": [
    "torch.cuda.get_device_properties(DEVICE)"
   ]
  },
  {
   "cell_type": "code",
   "execution_count": 4,
   "metadata": {},
   "outputs": [],
   "source": [
    "DTYPE = torch.float32"
   ]
  },
  {
   "cell_type": "markdown",
   "metadata": {},
   "source": [
    "# Elementwise Operations\n",
    "A: (M, N)\n",
    "B: (M, N)\n",
    "Result: (M, N)\n",
    "\n",
    "-> Shapes MUST match\n",
    "Every elements is --operation-- in the same location\n",
    "ADDING, SUBTRACTING, MULTIPLYING, DIVIDING etc..."
   ]
  },
  {
   "cell_type": "code",
   "execution_count": 12,
   "metadata": {},
   "outputs": [
    {
     "data": {
      "text/plain": [
       "(tensor([[0.4384, 0.1983, 0.8377, 0.3858, 0.2744],\n",
       "         [0.8071, 0.0273, 0.1593, 0.9037, 0.9704],\n",
       "         [0.6785, 0.0208, 0.2913, 0.0522, 0.8723],\n",
       "         [0.1333, 0.3109, 0.3667, 0.2385, 0.3994],\n",
       "         [0.8602, 0.2686, 0.4060, 0.6478, 0.9957]]),\n",
       " torch.Size([5, 5]))"
      ]
     },
     "execution_count": 12,
     "metadata": {},
     "output_type": "execute_result"
    }
   ],
   "source": [
    "A = torch.rand((5, 5), dtype=DTYPE, device=DEVICE)\n",
    "A, A.shape"
   ]
  },
  {
   "cell_type": "code",
   "execution_count": 13,
   "metadata": {},
   "outputs": [
    {
     "data": {
      "text/plain": [
       "(tensor([[3.9433e-01, 6.2108e-04, 4.1310e-01, 7.9625e-01, 1.4572e-01],\n",
       "         [5.2915e-01, 5.8589e-01, 5.8698e-01, 5.2897e-01, 8.2075e-01],\n",
       "         [1.2902e-01, 9.3988e-02, 5.9249e-01, 4.7929e-01, 4.7052e-01],\n",
       "         [7.4067e-01, 9.1130e-01, 2.9639e-02, 2.6085e-01, 1.3902e-01],\n",
       "         [7.5832e-01, 6.5414e-01, 6.8506e-01, 3.3213e-01, 1.8475e-01]]),\n",
       " torch.Size([5, 5]))"
      ]
     },
     "execution_count": 13,
     "metadata": {},
     "output_type": "execute_result"
    }
   ],
   "source": [
    "B = torch.rand((5, 5), dtype=DTYPE, device=DEVICE)\n",
    "B, B.shape"
   ]
  },
  {
   "cell_type": "code",
   "execution_count": 14,
   "metadata": {},
   "outputs": [
    {
     "data": {
      "text/plain": [
       "(tensor([[0.8327, 0.1989, 1.2508, 1.1820, 0.4201],\n",
       "         [1.3363, 0.6132, 0.7463, 1.4327, 1.7911],\n",
       "         [0.8075, 0.1148, 0.8838, 0.5315, 1.3428],\n",
       "         [0.8740, 1.2222, 0.3964, 0.4993, 0.5384],\n",
       "         [1.6186, 0.9228, 1.0911, 0.9800, 1.1805]]),\n",
       " torch.Size([5, 5]))"
      ]
     },
     "execution_count": 14,
     "metadata": {},
     "output_type": "execute_result"
    }
   ],
   "source": [
    "# Adding\n",
    "AB = A + B\n",
    "AB, AB.shape"
   ]
  },
  {
   "cell_type": "code",
   "execution_count": 15,
   "metadata": {},
   "outputs": [
    {
     "data": {
      "text/plain": [
       "tensor(True)"
      ]
     },
     "execution_count": 15,
     "metadata": {},
     "output_type": "execute_result"
    }
   ],
   "source": [
    "(A + B).all() == torch.add(A, B).all()"
   ]
  },
  {
   "cell_type": "code",
   "execution_count": 16,
   "metadata": {},
   "outputs": [
    {
     "data": {
      "text/plain": [
       "(tensor([[ 0.0440,  0.1977,  0.4246, -0.4105,  0.1286],\n",
       "         [ 0.2780, -0.5586, -0.4277,  0.3748,  0.1496],\n",
       "         [ 0.5495, -0.0732, -0.3011, -0.4271,  0.4017],\n",
       "         [-0.6074, -0.6004,  0.3371, -0.0224,  0.2604],\n",
       "         [ 0.1019, -0.3855, -0.2791,  0.3157,  0.8110]]),\n",
       " torch.Size([5, 5]))"
      ]
     },
     "execution_count": 16,
     "metadata": {},
     "output_type": "execute_result"
    }
   ],
   "source": [
    "# Subtracting\n",
    "AB = torch.sub(A, B)\n",
    "AB, AB.shape"
   ]
  },
  {
   "cell_type": "code",
   "execution_count": 17,
   "metadata": {},
   "outputs": [
    {
     "data": {
      "text/plain": [
       "tensor(True)"
      ]
     },
     "execution_count": 17,
     "metadata": {},
     "output_type": "execute_result"
    }
   ],
   "source": [
    "torch.sub(A, B).all() == (A - B).all()"
   ]
  },
  {
   "cell_type": "code",
   "execution_count": 18,
   "metadata": {},
   "outputs": [
    {
     "data": {
      "text/plain": [
       "(tensor([[1.7286e-01, 1.2316e-04, 3.4604e-01, 3.0718e-01, 3.9982e-02],\n",
       "         [4.2710e-01, 1.5985e-02, 9.3518e-02, 4.7805e-01, 7.9643e-01],\n",
       "         [8.7536e-02, 1.9520e-03, 1.7262e-01, 2.5014e-02, 4.1042e-01],\n",
       "         [9.8727e-02, 2.8333e-01, 1.0870e-02, 6.2208e-02, 5.5523e-02],\n",
       "         [6.5233e-01, 1.7573e-01, 2.7814e-01, 2.1517e-01, 1.8397e-01]]),\n",
       " torch.Size([5, 5]))"
      ]
     },
     "execution_count": 18,
     "metadata": {},
     "output_type": "execute_result"
    }
   ],
   "source": [
    "# Multiplying\n",
    "AB = torch.mul(A, B)\n",
    "AB, AB.shape"
   ]
  },
  {
   "cell_type": "code",
   "execution_count": 19,
   "metadata": {},
   "outputs": [
    {
     "data": {
      "text/plain": [
       "tensor(True)"
      ]
     },
     "execution_count": 19,
     "metadata": {},
     "output_type": "execute_result"
    }
   ],
   "source": [
    "torch.mul(A, B).all() == (A * B).all()"
   ]
  },
  {
   "cell_type": "code",
   "execution_count": 20,
   "metadata": {},
   "outputs": [
    {
     "data": {
      "text/plain": [
       "(tensor([[1.1117e+00, 3.1927e+02, 2.0278e+00, 4.8450e-01, 1.8828e+00],\n",
       "         [1.5254e+00, 4.6568e-02, 2.7142e-01, 1.7085e+00, 1.1823e+00],\n",
       "         [5.2590e+00, 2.2098e-01, 4.9173e-01, 1.0889e-01, 1.8538e+00],\n",
       "         [1.7997e-01, 3.4117e-01, 1.2374e+01, 9.1423e-01, 2.8729e+00],\n",
       "         [1.1344e+00, 4.1069e-01, 5.9266e-01, 1.9506e+00, 5.3895e+00]]),\n",
       " torch.Size([5, 5]))"
      ]
     },
     "execution_count": 20,
     "metadata": {},
     "output_type": "execute_result"
    }
   ],
   "source": [
    "# Dividing\n",
    "AB = torch.div(A, B)\n",
    "AB, AB.shape"
   ]
  },
  {
   "cell_type": "code",
   "execution_count": 21,
   "metadata": {},
   "outputs": [
    {
     "data": {
      "text/plain": [
       "tensor(True)"
      ]
     },
     "execution_count": 21,
     "metadata": {},
     "output_type": "execute_result"
    }
   ],
   "source": [
    "torch.div(A, B).all() == (A / B).all()"
   ]
  },
  {
   "cell_type": "code",
   "execution_count": 22,
   "metadata": {},
   "outputs": [
    {
     "data": {
      "text/plain": [
       "tensor([[1.5502, 1.2193, 2.3110, 1.4708, 1.3157],\n",
       "        [2.2415, 1.0277, 1.1727, 2.4688, 2.6389],\n",
       "        [1.9709, 1.0210, 1.3382, 1.0536, 2.3923],\n",
       "        [1.1426, 1.3647, 1.4430, 1.2693, 1.4909],\n",
       "        [2.3637, 1.3082, 1.5008, 1.9114, 2.7067]])"
      ]
     },
     "execution_count": 22,
     "metadata": {},
     "output_type": "execute_result"
    }
   ],
   "source": [
    "# Exponential\n",
    "torch.e ** A"
   ]
  },
  {
   "cell_type": "code",
   "execution_count": 23,
   "metadata": {},
   "outputs": [
    {
     "data": {
      "text/plain": [
       "tensor(True)"
      ]
     },
     "execution_count": 23,
     "metadata": {},
     "output_type": "execute_result"
    }
   ],
   "source": [
    "torch.exp(A).all() == (torch.e ** A).all()"
   ]
  },
  {
   "cell_type": "code",
   "execution_count": 24,
   "metadata": {},
   "outputs": [
    {
     "data": {
      "text/plain": [
       "tensor([[0.6621, 0.4453, 0.9152, 0.6211, 0.5238],\n",
       "        [0.8984, 0.1652, 0.3991, 0.9506, 0.9851],\n",
       "        [0.8237, 0.1441, 0.5398, 0.2285, 0.9339],\n",
       "        [0.3651, 0.5576, 0.6056, 0.4883, 0.6320],\n",
       "        [0.9275, 0.5183, 0.6372, 0.8049, 0.9979]])"
      ]
     },
     "execution_count": 24,
     "metadata": {},
     "output_type": "execute_result"
    }
   ],
   "source": [
    "# Square Root\n",
    "A ** .5"
   ]
  },
  {
   "cell_type": "code",
   "execution_count": 25,
   "metadata": {},
   "outputs": [
    {
     "data": {
      "text/plain": [
       "tensor(True)"
      ]
     },
     "execution_count": 25,
     "metadata": {},
     "output_type": "execute_result"
    }
   ],
   "source": [
    "torch.sqrt(A).all() == (A ** .5).all()"
   ]
  },
  {
   "cell_type": "markdown",
   "metadata": {},
   "source": [
    "What happens if shapes DO NOT MATCH?\n",
    "\n",
    "v: (N) -> N elements\n",
    "M: (M, N) -> M rows, N columns\n",
    "\n",
    "Broadcasting -> \"Strecthing\" a lower dimension so it matches with the other.\n",
    "\n",
    "V: (M, N)\n",
    "\n",
    "EXAMPLE\n",
    "\n",
    "v: [[0., 1., 2., 3., 4.]] -> (1, 5)\n",
    "\n",
    "M: [0., 1., 2., 0., 5.], -> (3, 5)\n",
    "   [3., 0., 1., 1., 1.],\n",
    "   [10., 3., 2., 1., 4.]\n",
    "\n",
    "After Broadcasting:\n",
    "\n",
    "V: [0., 1., 2., 3., 4.], -> (3, 5)\n",
    "   [0., 1., 2., 3., 4.],\n",
    "   [0., 1., 2., 3., 4.]\n",
    "\n",
    "Result:\n",
    "\n",
    "[0., 1., 4., 0., 20.],\n",
    "[0., 0., 2., 3., 4.],\n",
    "[0., 3., 4., 3., 16.]"
   ]
  },
  {
   "cell_type": "code",
   "execution_count": 26,
   "metadata": {},
   "outputs": [
    {
     "data": {
      "text/plain": [
       "(tensor([0., 1., 2., 3., 4.]), torch.Size([5]), 1)"
      ]
     },
     "execution_count": 26,
     "metadata": {},
     "output_type": "execute_result"
    }
   ],
   "source": [
    "v = torch.arange(0, 5, 1, dtype=DTYPE, device=DEVICE)\n",
    "v, v.shape, v.ndim"
   ]
  },
  {
   "cell_type": "code",
   "execution_count": 27,
   "metadata": {},
   "outputs": [
    {
     "data": {
      "text/plain": [
       "(tensor([[ 0.,  1.,  2.,  0.,  5.],\n",
       "         [ 3.,  0.,  1.,  1.,  1.],\n",
       "         [10.,  3.,  2.,  1.,  4.]]),\n",
       " torch.Size([3, 5]),\n",
       " 2)"
      ]
     },
     "execution_count": 27,
     "metadata": {},
     "output_type": "execute_result"
    }
   ],
   "source": [
    "M = torch.tensor([\n",
    "    [0., 1., 2., 0., 5.],\n",
    "    [3., 0., 1., 1., 1.],\n",
    "    [10., 3., 2., 1., 4.]\n",
    "], dtype=DTYPE, device=DEVICE)\n",
    "M, M.shape, M.ndim"
   ]
  },
  {
   "cell_type": "code",
   "execution_count": 28,
   "metadata": {},
   "outputs": [
    {
     "data": {
      "text/plain": [
       "(tensor([[ 0.,  1.,  4.,  0., 20.],\n",
       "         [ 0.,  0.,  2.,  3.,  4.],\n",
       "         [ 0.,  3.,  4.,  3., 16.]]),\n",
       " torch.Size([3, 5]),\n",
       " 2)"
      ]
     },
     "execution_count": 28,
     "metadata": {},
     "output_type": "execute_result"
    }
   ],
   "source": [
    "Mv = torch.mul(M, v)\n",
    "Mv, Mv.shape, Mv.ndim"
   ]
  },
  {
   "cell_type": "markdown",
   "metadata": {},
   "source": [
    "# Transpose of a Tensor\n",
    "A: (M, N) -> M rows, N columns\n",
    "\n",
    "Transposing: Swaping dimensions with each other.\n",
    "(Rows become Columns, Columns become Rows)\n",
    "\n",
    "A.T: (N, M)"
   ]
  },
  {
   "cell_type": "code",
   "execution_count": 29,
   "metadata": {},
   "outputs": [
    {
     "data": {
      "text/plain": [
       "(tensor([[ 0.,  1.,  2.,  0.,  5.],\n",
       "         [ 3.,  0.,  1.,  1.,  1.],\n",
       "         [10.,  3.,  2.,  1.,  4.]]),\n",
       " torch.Size([3, 5]))"
      ]
     },
     "execution_count": 29,
     "metadata": {},
     "output_type": "execute_result"
    }
   ],
   "source": [
    "M, M.shape"
   ]
  },
  {
   "cell_type": "code",
   "execution_count": 30,
   "metadata": {},
   "outputs": [
    {
     "data": {
      "text/plain": [
       "(tensor([[ 0.,  3., 10.],\n",
       "         [ 1.,  0.,  3.],\n",
       "         [ 2.,  1.,  2.],\n",
       "         [ 0.,  1.,  1.],\n",
       "         [ 5.,  1.,  4.]]),\n",
       " torch.Size([5, 3]))"
      ]
     },
     "execution_count": 30,
     "metadata": {},
     "output_type": "execute_result"
    }
   ],
   "source": [
    "MT = M.T\n",
    "MT, MT.shape"
   ]
  },
  {
   "cell_type": "code",
   "execution_count": 31,
   "metadata": {},
   "outputs": [
    {
     "data": {
      "text/plain": [
       "(tensor([0., 1., 2., 3., 4.]), torch.Size([5]))"
      ]
     },
     "execution_count": 31,
     "metadata": {},
     "output_type": "execute_result"
    }
   ],
   "source": [
    "v, v.shape"
   ]
  },
  {
   "cell_type": "code",
   "execution_count": 32,
   "metadata": {},
   "outputs": [
    {
     "data": {
      "text/plain": [
       "(tensor([[0., 1., 2., 3., 4.]]), torch.Size([1, 5]), 2)"
      ]
     },
     "execution_count": 32,
     "metadata": {},
     "output_type": "execute_result"
    }
   ],
   "source": [
    "v = v.reshape(1, 5)\n",
    "v, v.shape, v.ndim"
   ]
  },
  {
   "cell_type": "code",
   "execution_count": 33,
   "metadata": {},
   "outputs": [
    {
     "data": {
      "text/plain": [
       "(tensor([[0.],\n",
       "         [1.],\n",
       "         [2.],\n",
       "         [3.],\n",
       "         [4.]]),\n",
       " torch.Size([5, 1]),\n",
       " 2)"
      ]
     },
     "execution_count": 33,
     "metadata": {},
     "output_type": "execute_result"
    }
   ],
   "source": [
    "vT = v.T\n",
    "vT, vT.shape, vT.ndim"
   ]
  },
  {
   "cell_type": "markdown",
   "metadata": {},
   "source": [
    "# Dot Product\n",
    "\n",
    "Perceptrons (in NNs) -> Biological Neurons\n",
    "* X: Input\n",
    "* y: Output\n",
    "* W: Weights\n",
    "* b: Bias\n",
    "* f: Activation Functions\n",
    "\n",
    "y = f(torch.dot(X, W) + b)\n",
    "\n",
    "THOUSANDS of Perceptrons -> Neural Networks\n",
    "\n",
    "Dot Product:\n",
    "1. Vector - Vector\n",
    "2. Matrix - Vector\n",
    "3. Matrix - Matrix"
   ]
  },
  {
   "cell_type": "markdown",
   "metadata": {},
   "source": [
    "# 1. Vector - Vector\n",
    "-> Vectors must have SAME # of elements!\n",
    "A: (N)\n",
    "B: (N)\n",
    "\n",
    "Result: Scalar\n",
    "\n",
    "y = sum(A * B)\n",
    "\n",
    "A: [0., 1., 2., 3., 4.]\n",
    "B: [ 0., 1., 1., 2., 10.]\n",
    "\n",
    "A * B = [0., 1., 2., 6., 40.]\n",
    "y = sum(A * B) = sum([0., 1., 2., 6., 40.]) = 0. + 1. + 2. + 6. + 40. = 49.\n",
    "\n",
    "Result: 49."
   ]
  },
  {
   "cell_type": "code",
   "execution_count": 6,
   "metadata": {},
   "outputs": [
    {
     "data": {
      "text/plain": [
       "(tensor([0., 1., 2., 3., 4.], device='cuda:0'), torch.Size([5]), 1)"
      ]
     },
     "execution_count": 6,
     "metadata": {},
     "output_type": "execute_result"
    }
   ],
   "source": [
    "A = torch.arange(0, 5, 1, dtype=DTYPE, device=DEVICE)\n",
    "A, A.shape, A.ndim"
   ]
  },
  {
   "cell_type": "code",
   "execution_count": 7,
   "metadata": {},
   "outputs": [
    {
     "data": {
      "text/plain": [
       "(tensor([ 0.,  1.,  1.,  2., 10.], device='cuda:0'), torch.Size([5]), 1)"
      ]
     },
     "execution_count": 7,
     "metadata": {},
     "output_type": "execute_result"
    }
   ],
   "source": [
    "B = torch.tensor([0., 1., 1., 2., 10.], dtype=DTYPE, device=DEVICE)\n",
    "B, B.shape, B.ndim"
   ]
  },
  {
   "cell_type": "code",
   "execution_count": 9,
   "metadata": {},
   "outputs": [
    {
     "data": {
      "text/plain": [
       "(tensor(49., device='cuda:0'), torch.Size([]), 0)"
      ]
     },
     "execution_count": 9,
     "metadata": {},
     "output_type": "execute_result"
    }
   ],
   "source": [
    "DP = torch.dot(A, B)\n",
    "# DP, DP.shape, DP.ndim\n",
    "\n",
    "DPs = sum(A * B)\n",
    "DPs, DPs.shape, DPs.ndim"
   ]
  },
  {
   "cell_type": "markdown",
   "metadata": {},
   "source": [
    "# 2. Matrix - Vector\n",
    "\n",
    "A: (M, N)\n",
    "B: (N)\n",
    "\n",
    "A -> A Column Vector\n",
    "\n",
    "A: -> (3, 5)\n",
    "[ 1.,  1.,  0.,  2.,  3.],\n",
    "[ 0.,  5.,  2.,  0., 10.],\n",
    "[ 1.,  1.,  4.,  3., 10.]\n",
    "\n",
    "A.T: -> (5, 3)\n",
    "[1., 0., 1.],\n",
    "[1., 5., 1.],\n",
    "[0., 2., 4.],\n",
    "[2., 0., 3.],\n",
    "[3., 10., 10.]\n",
    "\n",
    "B: -> (5)\n",
    "[ 0., 1., 1., 2., 10.]\n",
    "\n",
    "A.T -> [A0],\n",
    "       [A1],\n",
    "       [A2],\n",
    "       [A3],\n",
    "       [A4]\n",
    "\n",
    "A0 = [1., 0., 1.],\n",
    "A1 = [1., 5., 1.],\n",
    "A2 = [0., 2., 4.],\n",
    "A3 = [2., 0., 3.],\n",
    "A4 = [3., 10., 10.]\n",
    "\n",
    "A * B = [(A0 * 0.), (A1 * 1.), [A2 * 1.], [A3 * 2.], [A4 * 10.]] = [[0., 0., 0.,], [1., 5., 1.],  [0., 2., 4.], [4., 0., 6.], [30., 100., 100.]]\n",
    "y = sum(A * B) = sum([[0., 0., 0.,], [1., 5., 1.],  [0., 2., 4.], [4., 0., 6.], [30., 100., 100.]]) = [0., 7., 6., 10., 230.]\n",
    "\n",
    "Result: [0., 7., 6., 10., 230.]"
   ]
  },
  {
   "cell_type": "code",
   "execution_count": 13,
   "metadata": {},
   "outputs": [
    {
     "data": {
      "text/plain": [
       "(tensor([[ 1.,  1.,  0.,  2.,  3.],\n",
       "         [ 0.,  5.,  2.,  0., 10.],\n",
       "         [ 1.,  1.,  4.,  3., 10.]], device='cuda:0'),\n",
       " torch.Size([3, 5]),\n",
       " 2)"
      ]
     },
     "execution_count": 13,
     "metadata": {},
     "output_type": "execute_result"
    }
   ],
   "source": [
    "A = torch.tensor([\n",
    "    [1., 1., 0., 2., 3.],\n",
    "    [0., 5., 2., 0., 10.],\n",
    "    [1., 1., 4., 3., 10.]],\n",
    "    dtype=DTYPE, device=DEVICE)\n",
    "A, A.shape, A.ndim"
   ]
  },
  {
   "cell_type": "code",
   "execution_count": 14,
   "metadata": {},
   "outputs": [
    {
     "data": {
      "text/plain": [
       "(tensor([ 0.,  1.,  1.,  2., 10.], device='cuda:0'), torch.Size([5]), 1)"
      ]
     },
     "execution_count": 14,
     "metadata": {},
     "output_type": "execute_result"
    }
   ],
   "source": [
    "B = torch.tensor([0., 1., 1., 2., 10.], dtype=DTYPE, device=DEVICE)\n",
    "B, B.shape, B.ndim"
   ]
  },
  {
   "cell_type": "code",
   "execution_count": 15,
   "metadata": {},
   "outputs": [
    {
     "data": {
      "text/plain": [
       "(tensor([ 35., 107., 111.], device='cuda:0'), torch.Size([3]), 1)"
      ]
     },
     "execution_count": 15,
     "metadata": {},
     "output_type": "execute_result"
    }
   ],
   "source": [
    "DP = torch.mv(A, B)\n",
    "DP, DP.shape, DP.ndim"
   ]
  }
 ],
 "metadata": {
  "kernelspec": {
   "display_name": "deepl",
   "language": "python",
   "name": "python3"
  },
  "language_info": {
   "codemirror_mode": {
    "name": "ipython",
    "version": 3
   },
   "file_extension": ".py",
   "mimetype": "text/x-python",
   "name": "python",
   "nbconvert_exporter": "python",
   "pygments_lexer": "ipython3",
   "version": "3.12.7"
  }
 },
 "nbformat": 4,
 "nbformat_minor": 2
}
