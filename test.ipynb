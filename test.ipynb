{
 "cells": [
  {
   "cell_type": "code",
   "execution_count": 1,
   "metadata": {},
   "outputs": [],
   "source": [
    "import torch\n",
    "from torch import (optim, nn)\n",
    "\n",
    "from torch.utils.data import (\n",
    "    DataLoader,\n",
    "    TensorDataset,\n",
    "    random_split\n",
    ")\n",
    "\n",
    "import numpy as np\n",
    "\n",
    "# User-defined classes\n",
    "from utils.base import (\n",
    "    LogisticRegression,\n",
    "    Trainer\n",
    ")\n",
    "\n",
    "# User-defined functions\n",
    "from utils.preprocess import clusters\n",
    "\n",
    "# Plotting\n",
    "import matplotlib.pyplot as plt\n",
    "\n",
    "plt.style.use(\"seaborn-v0_8\")\n",
    "plt.rcParams[\"font.family\"] = \"monospace\""
   ]
  },
  {
   "cell_type": "code",
   "execution_count": 2,
   "metadata": {},
   "outputs": [
    {
     "name": "stdout",
     "output_type": "stream",
     "text": [
      "Device has ben set to: NVIDIA GeForce RTX 4060 Laptop GPU\n"
     ]
    }
   ],
   "source": [
    "# Constants\n",
    "DEVICE = torch.device(\"cuda\" if torch.cuda.is_available() else \"cpu\")\n",
    "DTYPE = torch.float32\n",
    "BATCH_SIZE = 32\n",
    "NUM_EPOCHS = 20\n",
    "SIZE = 100\n",
    "GENERATOR = torch.Generator().manual_seed(42)\n",
    "\n",
    "print(f\"Device has ben set to: {torch.cuda.get_device_properties(DEVICE).name}\")"
   ]
  },
  {
   "cell_type": "code",
   "execution_count": 3,
   "metadata": {},
   "outputs": [],
   "source": [
    "X, y = clusters(SIZE, std0 = 1.3, std1 = 1.6)"
   ]
  },
  {
   "cell_type": "code",
   "execution_count": 4,
   "metadata": {},
   "outputs": [
    {
     "name": "stdout",
     "output_type": "stream",
     "text": [
      "Generated X:\n",
      "tensor([[-4.0607, -0.6471],\n",
      "        [-2.6560, -3.8825],\n",
      "        [-2.3922, -3.0459],\n",
      "        [-2.3641, -4.5297],\n",
      "        [-0.5297, -4.0768],\n",
      "        [-0.8592, -2.3321],\n",
      "        [-2.7046, -3.3576],\n",
      "        [-4.1806, -2.3712],\n",
      "        [-0.9526, -2.5138],\n",
      "        [-2.5775, -3.3860],\n",
      "        [-1.6721, -2.8777],\n",
      "        [-3.7743, -4.4937],\n",
      "        [-2.5970, -3.5020],\n",
      "        [-2.1455, -3.5758],\n",
      "        [-2.8376, -2.4824],\n",
      "        [-3.1257, -3.4223],\n",
      "        [-2.9633, -2.5802],\n",
      "        [-3.8238, -2.4417],\n",
      "        [-2.5811, -3.7044],\n",
      "        [-3.0762, -3.0040],\n",
      "        [-2.6368, -3.5414],\n",
      "        [-5.4648, -2.4257],\n",
      "        [-3.6606, -1.8814],\n",
      "        [-2.5134, -1.2532],\n",
      "        [-1.3896, -4.5102],\n",
      "        [-2.4402, -1.8050],\n",
      "        [-0.6883, -2.2141],\n",
      "        [-3.0067, -3.0684],\n",
      "        [-1.9112, -3.7873],\n",
      "        [-2.7778, -3.7283],\n",
      "        [-2.5615, -2.1908],\n",
      "        [-2.4973, -4.3631],\n",
      "        [-0.5758, -1.2698],\n",
      "        [-3.6245, -1.2962],\n",
      "        [-1.9603, -1.6901],\n",
      "        [-1.1362, -3.0903],\n",
      "        [-2.8218, -4.6251],\n",
      "        [-4.6048, -1.1499],\n",
      "        [-1.0266, -4.1043],\n",
      "        [-3.1663, -4.2734],\n",
      "        [-1.1884, -3.3439],\n",
      "        [-2.7513, -5.0663],\n",
      "        [-1.9492, -2.3101],\n",
      "        [-4.2510, -4.7938],\n",
      "        [-3.2798, -3.4828],\n",
      "        [-1.9283, -2.8213],\n",
      "        [-2.1643, -0.4167],\n",
      "        [-0.9973, -1.9850],\n",
      "        [-1.6182, -3.4645],\n",
      "        [-2.5294, -4.3677],\n",
      "        [-1.7321, -1.9162],\n",
      "        [-0.6151, -0.0880],\n",
      "        [-2.8983, -1.5077],\n",
      "        [-3.5138, -3.7559],\n",
      "        [-1.1369, -3.2375],\n",
      "        [-0.6799, -2.3273],\n",
      "        [-1.4594, -3.8809],\n",
      "        [-3.5856, -3.4850],\n",
      "        [-5.4723, -3.8939],\n",
      "        [-6.1752, -2.4040],\n",
      "        [-3.1764, -3.7683],\n",
      "        [-3.3166, -4.7685],\n",
      "        [-4.2521, -3.4680],\n",
      "        [-1.6599, -2.1296],\n",
      "        [-5.8091, -2.8259],\n",
      "        [-1.8111, -2.7999],\n",
      "        [-1.2265, -0.3582],\n",
      "        [-5.2138, -6.3503],\n",
      "        [-1.7542, -2.8377],\n",
      "        [-3.7640, -2.4585],\n",
      "        [-3.1734, -2.6471],\n",
      "        [-1.1732, -2.6560],\n",
      "        [-4.8845, -5.2712],\n",
      "        [-3.7397, -1.4818],\n",
      "        [-2.5229, -3.6054],\n",
      "        [-0.8959, -3.7083],\n",
      "        [-4.6828, -5.6465],\n",
      "        [-2.9448, -3.1500],\n",
      "        [-2.7859, -1.9021],\n",
      "        [-2.5204, -2.9272],\n",
      "        [-2.4586, -3.6033],\n",
      "        [-1.9812, -4.0842],\n",
      "        [-4.3529, -3.3942],\n",
      "        [-3.4543, -4.8463],\n",
      "        [-3.8331, -3.4396],\n",
      "        [-0.7572, -1.3013],\n",
      "        [-2.5619, -5.3551],\n",
      "        [-4.6434, -0.9670],\n",
      "        [-2.2659, -1.7945],\n",
      "        [-2.6690, -1.8343],\n",
      "        [-2.0656, -4.0237],\n",
      "        [-2.6812, -3.5557],\n",
      "        [-2.1739, -7.3690],\n",
      "        [-2.5453, -2.3942],\n",
      "        [-2.7832, -2.0970],\n",
      "        [-2.8037, -0.7595],\n",
      "        [-3.1451, -2.8021],\n",
      "        [-2.9179, -4.7622],\n",
      "        [-4.0676, -1.0547],\n",
      "        [-2.8762, -2.3149],\n",
      "        [ 2.9513,  1.7936],\n",
      "        [ 4.4390,  3.8916],\n",
      "        [ 2.6284,  3.4205],\n",
      "        [ 5.8497,  2.7029],\n",
      "        [ 3.5595,  4.2179],\n",
      "        [ 2.9637,  1.6120],\n",
      "        [ 2.6333, -0.9072],\n",
      "        [ 3.2238,  3.4916],\n",
      "        [ 2.8876,  1.0555],\n",
      "        [ 5.1752,  5.1458],\n",
      "        [ 1.1804,  0.2207],\n",
      "        [ 2.0403,  4.3593],\n",
      "        [ 5.3261,  4.2562],\n",
      "        [ 3.3508,  2.1679],\n",
      "        [ 1.4639,  0.7129],\n",
      "        [ 2.5883,  3.3758],\n",
      "        [ 2.9588,  4.0710],\n",
      "        [ 3.0421,  1.7437],\n",
      "        [ 6.0026,  4.2635],\n",
      "        [ 1.8845,  6.5838],\n",
      "        [ 1.0770,  1.5131],\n",
      "        [ 2.7114,  4.1568],\n",
      "        [ 2.1388,  3.7307],\n",
      "        [ 0.5207,  6.4992],\n",
      "        [ 2.7883,  4.4105],\n",
      "        [ 5.2907,  3.3743],\n",
      "        [ 1.0968,  0.1550],\n",
      "        [ 0.7668,  0.6733],\n",
      "        [ 4.0981,  4.1943],\n",
      "        [ 1.3339,  4.0198],\n",
      "        [ 2.9581,  1.4664],\n",
      "        [ 5.0892,  1.1147],\n",
      "        [ 4.1178,  3.1326],\n",
      "        [ 4.1562,  2.3730],\n",
      "        [ 4.2168,  3.3468],\n",
      "        [ 3.5143,  0.1209],\n",
      "        [ 4.9649,  3.1460],\n",
      "        [ 2.5045,  3.8142],\n",
      "        [ 2.2810,  4.2044],\n",
      "        [ 4.4340,  4.2067],\n",
      "        [ 1.7327,  3.7643],\n",
      "        [ 1.8483,  0.1951],\n",
      "        [ 4.3430,  1.2314],\n",
      "        [ 3.3865,  0.6646],\n",
      "        [-0.0713,  1.6212],\n",
      "        [ 2.3066,  2.5912],\n",
      "        [ 2.6342,  3.6711],\n",
      "        [ 3.8579,  2.9819],\n",
      "        [ 6.4459,  1.9104],\n",
      "        [ 3.2780,  0.8830],\n",
      "        [ 3.1734,  0.5785],\n",
      "        [ 2.8173,  1.8413],\n",
      "        [ 1.0382,  4.7522],\n",
      "        [ 2.7307,  1.5082],\n",
      "        [ 5.7907,  5.0295],\n",
      "        [ 0.7077,  4.5772],\n",
      "        [ 0.1215,  4.7491],\n",
      "        [-1.0351,  4.6287],\n",
      "        [ 2.6561,  4.4668],\n",
      "        [ 6.5858,  1.0507],\n",
      "        [ 3.7377,  3.1658],\n",
      "        [ 4.4935,  3.4503],\n",
      "        [ 2.3910,  3.5942],\n",
      "        [-0.8828,  1.5485],\n",
      "        [ 4.6397,  2.8752],\n",
      "        [ 2.4492,  4.0943],\n",
      "        [ 4.8104,  3.6768],\n",
      "        [ 5.1175,  1.4082],\n",
      "        [ 2.8476,  4.8237],\n",
      "        [ 3.5382,  4.2333],\n",
      "        [ 2.9354,  7.0237],\n",
      "        [ 4.1991,  1.8561],\n",
      "        [ 3.2212,  3.0740],\n",
      "        [ 3.2119,  2.8662],\n",
      "        [ 0.3908,  3.6433],\n",
      "        [ 4.4843,  2.9000],\n",
      "        [ 4.6561,  1.5603],\n",
      "        [ 4.3326,  4.2338],\n",
      "        [ 3.6388,  0.3192],\n",
      "        [ 2.6821,  3.3392],\n",
      "        [ 3.4878,  2.1510],\n",
      "        [ 0.4312,  0.0871],\n",
      "        [ 4.2352,  4.5187],\n",
      "        [ 0.9685, -0.7565],\n",
      "        [ 2.9285,  2.6601],\n",
      "        [ 3.5618,  2.0057],\n",
      "        [ 1.9161,  2.6755],\n",
      "        [ 3.2813,  2.2079],\n",
      "        [ 6.8924,  3.8558],\n",
      "        [ 2.8035,  3.0733],\n",
      "        [ 2.4787,  1.7217],\n",
      "        [ 4.3098,  1.0410],\n",
      "        [ 6.7282,  5.0034],\n",
      "        [ 3.3441,  1.3475],\n",
      "        [ 3.2010,  3.1402],\n",
      "        [ 1.0382,  3.5379],\n",
      "        [ 4.1470,  3.8782],\n",
      "        [ 3.8308,  2.9885],\n",
      "        [ 5.0494,  3.7146],\n",
      "        [ 4.2124,  3.5731]])\n",
      "\n",
      "Generated y:\n",
      "tensor([0., 0., 0., 0., 0., 0., 0., 0., 0., 0., 0., 0., 0., 0., 0., 0., 0., 0.,\n",
      "        0., 0., 0., 0., 0., 0., 0., 0., 0., 0., 0., 0., 0., 0., 0., 0., 0., 0.,\n",
      "        0., 0., 0., 0., 0., 0., 0., 0., 0., 0., 0., 0., 0., 0., 0., 0., 0., 0.,\n",
      "        0., 0., 0., 0., 0., 0., 0., 0., 0., 0., 0., 0., 0., 0., 0., 0., 0., 0.,\n",
      "        0., 0., 0., 0., 0., 0., 0., 0., 0., 0., 0., 0., 0., 0., 0., 0., 0., 0.,\n",
      "        0., 0., 0., 0., 0., 0., 0., 0., 0., 0., 1., 1., 1., 1., 1., 1., 1., 1.,\n",
      "        1., 1., 1., 1., 1., 1., 1., 1., 1., 1., 1., 1., 1., 1., 1., 1., 1., 1.,\n",
      "        1., 1., 1., 1., 1., 1., 1., 1., 1., 1., 1., 1., 1., 1., 1., 1., 1., 1.,\n",
      "        1., 1., 1., 1., 1., 1., 1., 1., 1., 1., 1., 1., 1., 1., 1., 1., 1., 1.,\n",
      "        1., 1., 1., 1., 1., 1., 1., 1., 1., 1., 1., 1., 1., 1., 1., 1., 1., 1.,\n",
      "        1., 1., 1., 1., 1., 1., 1., 1., 1., 1., 1., 1., 1., 1., 1., 1., 1., 1.,\n",
      "        1., 1.])\n",
      "\n",
      "Shape of X: \n",
      "torch.Size([200, 2])\n",
      "\n",
      "Shape of y: \n",
      "torch.Size([200])\n"
     ]
    }
   ],
   "source": [
    "print(\"Generated X:\", X, \"\\nGenerated y:\", y, sep='\\n')\n",
    "print(\"\\nShape of X: \", X.shape, \"\\nShape of y: \", y.shape, sep='\\n')"
   ]
  },
  {
   "cell_type": "code",
   "execution_count": 5,
   "metadata": {},
   "outputs": [
    {
     "data": {
      "image/png": "[encoded data removed]",
      "text/plain": [
       "<Figure size 800x550 with 1 Axes>"
      ]
     },
     "metadata": {},
     "output_type": "display_data"
    }
   ],
   "source": [
    "plt.scatter(X[y == 0][:, 0], X[y == 0][:, 1], marker='x', label='Cluster y = 0', s=20)\n",
    "plt.scatter(X[y == 1][:, 0], X[y == 1][:, 1], marker='+', label='Cluster y = 1', s=40)\n",
    "plt.legend()\n",
    "plt.xlabel('Feature 1')\n",
    "plt.ylabel('Feature 2')\n",
    "plt.title('Generated Clusters')\n",
    "plt.show()"
   ]
  },
  {
   "cell_type": "code",
   "execution_count": 6,
   "metadata": {},
   "outputs": [],
   "source": [
    "Model = LogisticRegression(in_dims=2).to(DEVICE)"
   ]
  },
  {
   "cell_type": "code",
   "execution_count": 7,
   "metadata": {},
   "outputs": [
    {
     "data": {
      "text/plain": [
       "(tensor([[-4.0607, -0.6471],\n",
       "         [-2.6560, -3.8825],\n",
       "         [-2.3922, -3.0459],\n",
       "         [-2.3641, -4.5297],\n",
       "         [-0.5297, -4.0768],\n",
       "         [-0.8592, -2.3321],\n",
       "         [-2.7046, -3.3576],\n",
       "         [-4.1806, -2.3712],\n",
       "         [-0.9526, -2.5138],\n",
       "         [-2.5775, -3.3860],\n",
       "         [-1.6721, -2.8777],\n",
       "         [-3.7743, -4.4937],\n",
       "         [-2.5970, -3.5020],\n",
       "         [-2.1455, -3.5758],\n",
       "         [-2.8376, -2.4824],\n",
       "         [-3.1257, -3.4223],\n",
       "         [-2.9633, -2.5802],\n",
       "         [-3.8238, -2.4417],\n",
       "         [-2.5811, -3.7044],\n",
       "         [-3.0762, -3.0040],\n",
       "         [-2.6368, -3.5414],\n",
       "         [-5.4648, -2.4257],\n",
       "         [-3.6606, -1.8814],\n",
       "         [-2.5134, -1.2532],\n",
       "         [-1.3896, -4.5102],\n",
       "         [-2.4402, -1.8050],\n",
       "         [-0.6883, -2.2141],\n",
       "         [-3.0067, -3.0684],\n",
       "         [-1.9112, -3.7873],\n",
       "         [-2.7778, -3.7283],\n",
       "         [-2.5615, -2.1908],\n",
       "         [-2.4973, -4.3631],\n",
       "         [-0.5758, -1.2698],\n",
       "         [-3.6245, -1.2962],\n",
       "         [-1.9603, -1.6901],\n",
       "         [-1.1362, -3.0903],\n",
       "         [-2.8218, -4.6251],\n",
       "         [-4.6048, -1.1499],\n",
       "         [-1.0266, -4.1043],\n",
       "         [-3.1663, -4.2734],\n",
       "         [-1.1884, -3.3439],\n",
       "         [-2.7513, -5.0663],\n",
       "         [-1.9492, -2.3101],\n",
       "         [-4.2510, -4.7938],\n",
       "         [-3.2798, -3.4828],\n",
       "         [-1.9283, -2.8213],\n",
       "         [-2.1643, -0.4167],\n",
       "         [-0.9973, -1.9850],\n",
       "         [-1.6182, -3.4645],\n",
       "         [-2.5294, -4.3677],\n",
       "         [-1.7321, -1.9162],\n",
       "         [-0.6151, -0.0880],\n",
       "         [-2.8983, -1.5077],\n",
       "         [-3.5138, -3.7559],\n",
       "         [-1.1369, -3.2375],\n",
       "         [-0.6799, -2.3273],\n",
       "         [-1.4594, -3.8809],\n",
       "         [-3.5856, -3.4850],\n",
       "         [-5.4723, -3.8939],\n",
       "         [-6.1752, -2.4040],\n",
       "         [-3.1764, -3.7683],\n",
       "         [-3.3166, -4.7685],\n",
       "         [-4.2521, -3.4680],\n",
       "         [-1.6599, -2.1296],\n",
       "         [-5.8091, -2.8259],\n",
       "         [-1.8111, -2.7999],\n",
       "         [-1.2265, -0.3582],\n",
       "         [-5.2138, -6.3503],\n",
       "         [-1.7542, -2.8377],\n",
       "         [-3.7640, -2.4585],\n",
       "         [-3.1734, -2.6471],\n",
       "         [-1.1732, -2.6560],\n",
       "         [-4.8845, -5.2712],\n",
       "         [-3.7397, -1.4818],\n",
       "         [-2.5229, -3.6054],\n",
       "         [-0.8959, -3.7083],\n",
       "         [-4.6828, -5.6465],\n",
       "         [-2.9448, -3.1500],\n",
       "         [-2.7859, -1.9021],\n",
       "         [-2.5204, -2.9272],\n",
       "         [-2.4586, -3.6033],\n",
       "         [-1.9812, -4.0842],\n",
       "         [-4.3529, -3.3942],\n",
       "         [-3.4543, -4.8463],\n",
       "         [-3.8331, -3.4396],\n",
       "         [-0.7572, -1.3013],\n",
       "         [-2.5619, -5.3551],\n",
       "         [-4.6434, -0.9670],\n",
       "         [-2.2659, -1.7945],\n",
       "         [-2.6690, -1.8343],\n",
       "         [-2.0656, -4.0237],\n",
       "         [-2.6812, -3.5557],\n",
       "         [-2.1739, -7.3690],\n",
       "         [-2.5453, -2.3942],\n",
       "         [-2.7832, -2.0970],\n",
       "         [-2.8037, -0.7595],\n",
       "         [-3.1451, -2.8021],\n",
       "         [-2.9179, -4.7622],\n",
       "         [-4.0676, -1.0547],\n",
       "         [-2.8762, -2.3149],\n",
       "         [ 2.9513,  1.7936],\n",
       "         [ 4.4390,  3.8916],\n",
       "         [ 2.6284,  3.4205],\n",
       "         [ 5.8497,  2.7029],\n",
       "         [ 3.5595,  4.2179],\n",
       "         [ 2.9637,  1.6120],\n",
       "         [ 2.6333, -0.9072],\n",
       "         [ 3.2238,  3.4916],\n",
       "         [ 2.8876,  1.0555],\n",
       "         [ 5.1752,  5.1458],\n",
       "         [ 1.1804,  0.2207],\n",
       "         [ 2.0403,  4.3593],\n",
       "         [ 5.3261,  4.2562],\n",
       "         [ 3.3508,  2.1679],\n",
       "         [ 1.4639,  0.7129],\n",
       "         [ 2.5883,  3.3758],\n",
       "         [ 2.9588,  4.0710],\n",
       "         [ 3.0421,  1.7437],\n",
       "         [ 6.0026,  4.2635],\n",
       "         [ 1.8845,  6.5838],\n",
       "         [ 1.0770,  1.5131],\n",
       "         [ 2.7114,  4.1568],\n",
       "         [ 2.1388,  3.7307],\n",
       "         [ 0.5207,  6.4992],\n",
       "         [ 2.7883,  4.4105],\n",
       "         [ 5.2907,  3.3743],\n",
       "         [ 1.0968,  0.1550],\n",
       "         [ 0.7668,  0.6733],\n",
       "         [ 4.0981,  4.1943],\n",
       "         [ 1.3339,  4.0198],\n",
       "         [ 2.9581,  1.4664],\n",
       "         [ 5.0892,  1.1147],\n",
       "         [ 4.1178,  3.1326],\n",
       "         [ 4.1562,  2.3730],\n",
       "         [ 4.2168,  3.3468],\n",
       "         [ 3.5143,  0.1209],\n",
       "         [ 4.9649,  3.1460],\n",
       "         [ 2.5045,  3.8142],\n",
       "         [ 2.2810,  4.2044],\n",
       "         [ 4.4340,  4.2067],\n",
       "         [ 1.7327,  3.7643],\n",
       "         [ 1.8483,  0.1951],\n",
       "         [ 4.3430,  1.2314],\n",
       "         [ 3.3865,  0.6646],\n",
       "         [-0.0713,  1.6212],\n",
       "         [ 2.3066,  2.5912],\n",
       "         [ 2.6342,  3.6711],\n",
       "         [ 3.8579,  2.9819],\n",
       "         [ 6.4459,  1.9104],\n",
       "         [ 3.2780,  0.8830],\n",
       "         [ 3.1734,  0.5785],\n",
       "         [ 2.8173,  1.8413],\n",
       "         [ 1.0382,  4.7522],\n",
       "         [ 2.7307,  1.5082],\n",
       "         [ 5.7907,  5.0295],\n",
       "         [ 0.7077,  4.5772],\n",
       "         [ 0.1215,  4.7491],\n",
       "         [-1.0351,  4.6287],\n",
       "         [ 2.6561,  4.4668],\n",
       "         [ 6.5858,  1.0507],\n",
       "         [ 3.7377,  3.1658],\n",
       "         [ 4.4935,  3.4503],\n",
       "         [ 2.3910,  3.5942],\n",
       "         [-0.8828,  1.5485],\n",
       "         [ 4.6397,  2.8752],\n",
       "         [ 2.4492,  4.0943],\n",
       "         [ 4.8104,  3.6768],\n",
       "         [ 5.1175,  1.4082],\n",
       "         [ 2.8476,  4.8237],\n",
       "         [ 3.5382,  4.2333],\n",
       "         [ 2.9354,  7.0237],\n",
       "         [ 4.1991,  1.8561],\n",
       "         [ 3.2212,  3.0740],\n",
       "         [ 3.2119,  2.8662],\n",
       "         [ 0.3908,  3.6433],\n",
       "         [ 4.4843,  2.9000],\n",
       "         [ 4.6561,  1.5603],\n",
       "         [ 4.3326,  4.2338],\n",
       "         [ 3.6388,  0.3192],\n",
       "         [ 2.6821,  3.3392],\n",
       "         [ 3.4878,  2.1510],\n",
       "         [ 0.4312,  0.0871],\n",
       "         [ 4.2352,  4.5187],\n",
       "         [ 0.9685, -0.7565],\n",
       "         [ 2.9285,  2.6601],\n",
       "         [ 3.5618,  2.0057],\n",
       "         [ 1.9161,  2.6755],\n",
       "         [ 3.2813,  2.2079],\n",
       "         [ 6.8924,  3.8558],\n",
       "         [ 2.8035,  3.0733],\n",
       "         [ 2.4787,  1.7217],\n",
       "         [ 4.3098,  1.0410],\n",
       "         [ 6.7282,  5.0034],\n",
       "         [ 3.3441,  1.3475],\n",
       "         [ 3.2010,  3.1402],\n",
       "         [ 1.0382,  3.5379],\n",
       "         [ 4.1470,  3.8782],\n",
       "         [ 3.8308,  2.9885],\n",
       "         [ 5.0494,  3.7146],\n",
       "         [ 4.2124,  3.5731]]),\n",
       " tensor([0., 0., 0., 0., 0., 0., 0., 0., 0., 0., 0., 0., 0., 0., 0., 0., 0., 0.,\n",
       "         0., 0., 0., 0., 0., 0., 0., 0., 0., 0., 0., 0., 0., 0., 0., 0., 0., 0.,\n",
       "         0., 0., 0., 0., 0., 0., 0., 0., 0., 0., 0., 0., 0., 0., 0., 0., 0., 0.,\n",
       "         0., 0., 0., 0., 0., 0., 0., 0., 0., 0., 0., 0., 0., 0., 0., 0., 0., 0.,\n",
       "         0., 0., 0., 0., 0., 0., 0., 0., 0., 0., 0., 0., 0., 0., 0., 0., 0., 0.,\n",
       "         0., 0., 0., 0., 0., 0., 0., 0., 0., 0., 1., 1., 1., 1., 1., 1., 1., 1.,\n",
       "         1., 1., 1., 1., 1., 1., 1., 1., 1., 1., 1., 1., 1., 1., 1., 1., 1., 1.,\n",
       "         1., 1., 1., 1., 1., 1., 1., 1., 1., 1., 1., 1., 1., 1., 1., 1., 1., 1.,\n",
       "         1., 1., 1., 1., 1., 1., 1., 1., 1., 1., 1., 1., 1., 1., 1., 1., 1., 1.,\n",
       "         1., 1., 1., 1., 1., 1., 1., 1., 1., 1., 1., 1., 1., 1., 1., 1., 1., 1.,\n",
       "         1., 1., 1., 1., 1., 1., 1., 1., 1., 1., 1., 1., 1., 1., 1., 1., 1., 1.,\n",
       "         1., 1.]))"
      ]
     },
     "execution_count": 7,
     "metadata": {},
     "output_type": "execute_result"
    }
   ],
   "source": [
    "Data = TensorDataset(X, y)\n",
    "Data.tensors"
   ]
  },
  {
   "cell_type": "code",
   "execution_count": 8,
   "metadata": {},
   "outputs": [],
   "source": [
    "trainData, valData = random_split(Data, (0.8, 0.2), generator=GENERATOR)\n",
    "\n",
    "trainLoader = DataLoader(trainData, batch_size=BATCH_SIZE, generator=GENERATOR, shuffle=True)\n",
    "valLoader = DataLoader(valData, batch_size=BATCH_SIZE, generator=GENERATOR, shuffle=True)"
   ]
  },
  {
   "cell_type": "code",
   "execution_count": 9,
   "metadata": {},
   "outputs": [],
   "source": [
    "trainer = Trainer(\n",
    "    Model,\n",
    "    trainLoader,\n",
    "    valLoader,\n",
    "    optimizer=optim.SGD(Model.parameters(), lr=.1),\n",
    "    criterion=nn.BCELoss(reduction='mean'),        # Binary Cross-entropy Loss (For classification)\n",
    "    device=DEVICE\n",
    ")"
   ]
  },
  {
   "cell_type": "code",
   "execution_count": 10,
   "metadata": {},
   "outputs": [
    {
     "name": "stderr",
     "output_type": "stream",
     "text": [
      "Epoch 1 / 20: 100%|██████████| 5/5 [00:00<00:00, 47.73it/s]\n"
     ]
    },
    {
     "name": "stdout",
     "output_type": "stream",
     "text": [
      "Loss: 0.2985\n",
      "\t| Validation Loss: 0.1952\n",
      "\n"
     ]
    },
    {
     "name": "stderr",
     "output_type": "stream",
     "text": [
      "Epoch 2 / 20: 100%|██████████| 5/5 [00:00<00:00, 1000.02it/s]\n"
     ]
    },
    {
     "name": "stdout",
     "output_type": "stream",
     "text": [
      "Loss: 0.1152\n",
      "\t| Validation Loss: 0.1108\n",
      "\n"
     ]
    },
    {
     "name": "stderr",
     "output_type": "stream",
     "text": [
      "Epoch 3 / 20: 100%|██████████| 5/5 [00:00<00:00, 832.70it/s]\n"
     ]
    },
    {
     "name": "stdout",
     "output_type": "stream",
     "text": [
      "Loss: 0.0797\n",
      "\t| Validation Loss: 0.1052\n",
      "\n"
     ]
    },
    {
     "name": "stderr",
     "output_type": "stream",
     "text": [
      "Epoch 4 / 20: 100%|██████████| 5/5 [00:00<00:00, 829.73it/s]\n"
     ]
    },
    {
     "name": "stdout",
     "output_type": "stream",
     "text": [
      "Loss: 0.0637\n",
      "\t| Validation Loss: 0.0789\n",
      "\n"
     ]
    },
    {
     "name": "stderr",
     "output_type": "stream",
     "text": [
      "Epoch 5 / 20: 100%|██████████| 5/5 [00:00<00:00, 1241.29it/s]\n"
     ]
    },
    {
     "name": "stdout",
     "output_type": "stream",
     "text": [
      "Loss: 0.0543\n",
      "\t| Validation Loss: 0.0751\n",
      "\n"
     ]
    },
    {
     "name": "stderr",
     "output_type": "stream",
     "text": [
      "Epoch 6 / 20: 100%|██████████| 5/5 [00:00<00:00, 1250.02it/s]\n"
     ]
    },
    {
     "name": "stdout",
     "output_type": "stream",
     "text": [
      "Loss: 0.0480\n",
      "\t| Validation Loss: 0.0483\n",
      "\n"
     ]
    },
    {
     "name": "stderr",
     "output_type": "stream",
     "text": [
      "Epoch 7 / 20: 100%|██████████| 5/5 [00:00<00:00, 1000.31it/s]\n"
     ]
    },
    {
     "name": "stdout",
     "output_type": "stream",
     "text": [
      "Loss: 0.0435\n",
      "\t| Validation Loss: 0.0501\n",
      "\n"
     ]
    },
    {
     "name": "stderr",
     "output_type": "stream",
     "text": [
      "Epoch 8 / 20: 100%|██████████| 5/5 [00:00<00:00, 1248.75it/s]\n"
     ]
    },
    {
     "name": "stdout",
     "output_type": "stream",
     "text": [
      "Loss: 0.0400\n",
      "\t| Validation Loss: 0.0402\n",
      "\n"
     ]
    },
    {
     "name": "stderr",
     "output_type": "stream",
     "text": [
      "Epoch 9 / 20: 100%|██████████| 5/5 [00:00<00:00, 1109.49it/s]\n"
     ]
    },
    {
     "name": "stdout",
     "output_type": "stream",
     "text": [
      "Loss: 0.0373\n",
      "\t| Validation Loss: 0.0401\n",
      "\n"
     ]
    },
    {
     "name": "stderr",
     "output_type": "stream",
     "text": [
      "Epoch 10 / 20: 100%|██████████| 5/5 [00:00<00:00, 1107.96it/s]\n"
     ]
    },
    {
     "name": "stdout",
     "output_type": "stream",
     "text": [
      "Loss: 0.0351\n",
      "\t| Validation Loss: 0.0543\n",
      "\n"
     ]
    },
    {
     "name": "stderr",
     "output_type": "stream",
     "text": [
      "Epoch 11 / 20: 100%|██████████| 5/5 [00:00<00:00, 1250.02it/s]\n"
     ]
    },
    {
     "name": "stdout",
     "output_type": "stream",
     "text": [
      "Loss: 0.0332\n",
      "\t| Validation Loss: 0.0337\n",
      "\n"
     ]
    },
    {
     "name": "stderr",
     "output_type": "stream",
     "text": [
      "Epoch 12 / 20: 100%|██████████| 5/5 [00:00<00:00, 586.65it/s]\n"
     ]
    },
    {
     "name": "stdout",
     "output_type": "stream",
     "text": [
      "Loss: 0.0316\n",
      "\t| Validation Loss: 0.0411\n",
      "\n"
     ]
    },
    {
     "name": "stderr",
     "output_type": "stream",
     "text": [
      "Epoch 13 / 20: 100%|██████████| 5/5 [00:00<00:00, 833.23it/s]\n"
     ]
    },
    {
     "name": "stdout",
     "output_type": "stream",
     "text": [
      "Loss: 0.0303\n",
      "\t| Validation Loss: 0.0286\n",
      "\n"
     ]
    },
    {
     "name": "stderr",
     "output_type": "stream",
     "text": [
      "Epoch 14 / 20: 100%|██████████| 5/5 [00:00<00:00, 999.07it/s]\n"
     ]
    },
    {
     "name": "stdout",
     "output_type": "stream",
     "text": [
      "Loss: 0.0291\n",
      "\t| Validation Loss: 0.0553\n",
      "\n"
     ]
    },
    {
     "name": "stderr",
     "output_type": "stream",
     "text": [
      "Epoch 15 / 20: 100%|██████████| 5/5 [00:00<00:00, 1244.01it/s]\n"
     ]
    },
    {
     "name": "stdout",
     "output_type": "stream",
     "text": [
      "Loss: 0.0281\n",
      "\t| Validation Loss: 0.0279\n",
      "\n"
     ]
    },
    {
     "name": "stderr",
     "output_type": "stream",
     "text": [
      "Epoch 16 / 20: 100%|██████████| 5/5 [00:00<00:00, 1098.45it/s]\n"
     ]
    },
    {
     "name": "stdout",
     "output_type": "stream",
     "text": [
      "Loss: 0.0271\n",
      "\t| Validation Loss: 0.0532\n",
      "\n"
     ]
    },
    {
     "name": "stderr",
     "output_type": "stream",
     "text": [
      "Epoch 17 / 20: 100%|██████████| 5/5 [00:00<00:00, 1249.94it/s]\n"
     ]
    },
    {
     "name": "stdout",
     "output_type": "stream",
     "text": [
      "Loss: 0.0263\n",
      "\t| Validation Loss: 0.0338\n",
      "\n"
     ]
    },
    {
     "name": "stderr",
     "output_type": "stream",
     "text": [
      "Epoch 18 / 20: 100%|██████████| 5/5 [00:00<00:00, 1208.94it/s]\n"
     ]
    },
    {
     "name": "stdout",
     "output_type": "stream",
     "text": [
      "Loss: 0.0255\n",
      "\t| Validation Loss: 0.0250\n",
      "\n"
     ]
    },
    {
     "name": "stderr",
     "output_type": "stream",
     "text": [
      "Epoch 19 / 20: 100%|██████████| 5/5 [00:00<00:00, 1250.09it/s]\n"
     ]
    },
    {
     "name": "stdout",
     "output_type": "stream",
     "text": [
      "Loss: 0.0248\n",
      "\t| Validation Loss: 0.0242\n",
      "\n"
     ]
    },
    {
     "name": "stderr",
     "output_type": "stream",
     "text": [
      "Epoch 20 / 20: 100%|██████████| 5/5 [00:00<00:00, 1244.16it/s]"
     ]
    },
    {
     "name": "stdout",
     "output_type": "stream",
     "text": [
      "Loss: 0.0242\n",
      "\t| Validation Loss: 0.0235\n",
      "\n"
     ]
    },
    {
     "name": "stderr",
     "output_type": "stream",
     "text": [
      "\n"
     ]
    }
   ],
   "source": [
    "train_loss, val_loss = trainer.train(num_epochs=NUM_EPOCHS)"
   ]
  },
  {
   "cell_type": "code",
   "execution_count": 11,
   "metadata": {},
   "outputs": [
    {
     "name": "stdout",
     "output_type": "stream",
     "text": [
      "Train Loss:\n",
      "{0: 0.298534682393074, 1: 0.11523493081331253, 2: 0.07969235628843307, 3: 0.06373018845915794, 4: 0.05426516979932785, 5: 0.047997216880321505, 6: 0.04346479848027229, 7: 0.040028441697359085, 8: 0.03730631060898304, 9: 0.03506615571677685, 10: 0.033227961882948874, 11: 0.03163422122597694, 12: 0.030289758183062076, 13: 0.029105957224965097, 14: 0.02805392351001501, 15: 0.02712741969153285, 16: 0.026313522644340993, 17: 0.025518592447042465, 18: 0.02483726916834712, 19: 0.024205423891544342}\n",
      "\n",
      "Validation Loss:\n",
      "{0: 0.1952465996146202, 1: 0.11078108847141266, 2: 0.10521672666072845, 3: 0.07893583178520203, 4: 0.07506192475557327, 5: 0.04832502268254757, 6: 0.05007718503475189, 7: 0.04015825688838959, 8: 0.040060183964669704, 9: 0.054286008700728416, 10: 0.03370624128729105, 11: 0.041074808686971664, 12: 0.028567722532898188, 13: 0.055301886051893234, 14: 0.02790998015552759, 15: 0.05323716998100281, 16: 0.03379696421325207, 17: 0.024968877900391817, 18: 0.024154994171112776, 19: 0.023536877240985632}\n"
     ]
    }
   ],
   "source": [
    "print(\"Train Loss:\", train_loss, \"\\nValidation Loss:\", val_loss, sep='\\n')"
   ]
  },
  {
   "cell_type": "code",
   "execution_count": 12,
   "metadata": {},
   "outputs": [
    {
     "data": {
      "image/png": "[encoded data removed]",
      "text/plain": [
       "<Figure size 800x550 with 1 Axes>"
      ]
     },
     "metadata": {},
     "output_type": "display_data"
    }
   ],
   "source": [
    "plt.plot(\n",
    "    train_loss.keys(),\n",
    "    train_loss.values(),\n",
    "    label=\"Training Loss\"\n",
    ");\n",
    "plt.plot(\n",
    "    val_loss.keys(),\n",
    "    val_loss.values(),\n",
    "    color=\"orange\",\n",
    "    label=\"Validation Loss\"\n",
    ");\n",
    "plt.ylim(bottom=-0);\n",
    "plt.xticks(np.linspace(0, 20, 11));\n",
    "plt.grid(True, alpha = .6);\n",
    "plt.title(\"Training/Validation Loss\");\n",
    "plt.legend(loc='best');\n",
    "plt.show()"
   ]
  },
  {
   "cell_type": "code",
   "execution_count": 13,
   "metadata": {},
   "outputs": [
    {
     "name": "stdout",
     "output_type": "stream",
     "text": [
      "Predicted Model Parameters:\n",
      "Weights: Parameter containing:\n",
      "tensor([[1.1845, 0.7482]], device='cuda:0', requires_grad=True)\n",
      "Bias: Parameter containing:\n",
      "tensor([0.0017], device='cuda:0', requires_grad=True)\n"
     ]
    }
   ],
   "source": [
    "print(f\"Predicted Model Parameters:\", \"Weights: {}\".format(Model.linear.weight), \"Bias: {}\".format(Model.linear.bias), sep=\"\\n\")"
   ]
  },
  {
   "cell_type": "code",
   "execution_count": 14,
   "metadata": {},
   "outputs": [],
   "source": [
    "T = torch.linspace(X.min(), X.max(), SIZE, dtype=DTYPE, device=DEVICE).reshape(SIZE, 1)\n",
    "\n",
    "slope = -Model.linear.weight[0][0] / Model.linear.weight[0][1]\n",
    "interc = -Model.linear.bias / Model.linear.weight[0][1]\n",
    "boundary = slope * T + interc"
   ]
  },
  {
   "cell_type": "code",
   "execution_count": 15,
   "metadata": {},
   "outputs": [
    {
     "data": {
      "image/png": "[encoded data removed]",
      "text/plain": [
       "<Figure size 800x550 with 1 Axes>"
      ]
     },
     "metadata": {},
     "output_type": "display_data"
    }
   ],
   "source": [
    "plt.scatter(X[y == 0][:, 0], X[y == 0][:, 1], marker='x', label='Cluster y = 0', s=20)\n",
    "plt.scatter(X[y == 1][:, 0], X[y == 1][:, 1], marker='+', label='Cluster y = 1', s=40)\n",
    "# Decision Boundary\n",
    "plt.plot(\n",
    "    T.detach().cpu(),\n",
    "    boundary.detach().cpu(),\n",
    "    alpha=.5,\n",
    "    color='black',\n",
    "    linestyle='--',\n",
    "    label=\"Boundary\"\n",
    ");\n",
    "\n",
    "plt.xlabel('Feature 1')\n",
    "plt.ylabel('Feature 2')\n",
    "plt.title(\"Generated Data\");\n",
    "plt.legend(loc='best');\n",
    "plt.show();"
   ]
  }
 ],
 "metadata": {
  "kernelspec": {
   "display_name": "deepl",
   "language": "python",
   "name": "python3"
  },
  "language_info": {
   "codemirror_mode": {
    "name": "ipython",
    "version": 3
   },
   "file_extension": ".py",
   "mimetype": "text/x-python",
   "name": "python",
   "nbconvert_exporter": "python",
   "pygments_lexer": "ipython3",
   "version": "3.12.7"
  }
 },
 "nbformat": 4,
 "nbformat_minor": 2
}
